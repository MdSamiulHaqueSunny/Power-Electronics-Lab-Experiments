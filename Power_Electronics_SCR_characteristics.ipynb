{
 "cells": [
  {
   "cell_type": "code",
   "execution_count": 34,
   "metadata": {
    "collapsed": false
   },
   "outputs": [],
   "source": [
    "import matplotlib.pyplot as plt\n",
    "\n",
    "Gate_voltage=[0.0,0.1,0.2,0.3,0.4,0.5,0.6,0.7,0.8,0.9,1.0]\n",
    "V_DC=[0.5,1.0,1.5,2.0,2.5,3.0,3.5,4.0,4.5,5.0,5.5]\n",
    "Anode_cathode_voltage=[0.0,5.40,5.40,5.40,5.39,0.75,0.75,0.75,0.75,0.75,0.75]\n",
    "Gate_current=[0.0,0.0,0.0,0.0,0.0,0.002,0.001,0.035,0.14,0.20,0.28]\n",
    "\n",
    "plt.plot(Anode_cathode_voltage,Gate_current)\n",
    "plt.ylabel('Gate Current')\n",
    "plt.xlabel('Anode-Cathode Voltage')\n",
    "plt.title('I-V Characteristics of SCR')\n",
    "plt.axis([0,6, -0.015, 0.015])\n",
    "plt.grid(True)\n",
    "plt.show()"
   ]
  },
  {
   "cell_type": "code",
   "execution_count": 33,
   "metadata": {
    "collapsed": false
   },
   "outputs": [],
   "source": []
  },
  {
   "cell_type": "code",
   "execution_count": null,
   "metadata": {
    "collapsed": true
   },
   "outputs": [],
   "source": []
  }
 ],
 "metadata": {
  "kernelspec": {
   "display_name": "Python 2",
   "language": "python",
   "name": "python2"
  },
  "language_info": {
   "codemirror_mode": {
    "name": "ipython",
    "version": 2
   },
   "file_extension": ".py",
   "mimetype": "text/x-python",
   "name": "python",
   "nbconvert_exporter": "python",
   "pygments_lexer": "ipython2",
   "version": "2.7.11"
  }
 },
 "nbformat": 4,
 "nbformat_minor": 0
}
